{
 "cells": [
  {
   "cell_type": "code",
   "execution_count": null,
   "id": "4149f149",
   "metadata": {},
   "outputs": [],
   "source": [
    "import requests\n",
    "requests.get(url)"
   ]
  },
  {
   "cell_type": "code",
   "execution_count": null,
   "id": "3d21e61f",
   "metadata": {},
   "outputs": [],
   "source": [
    "# Docker dosn't have anything\n",
    "\n",
    "- Baseimge \n",
    "\n",
    "- WORKDIR /Quiz # Docker now has /Quiz and you're currently in /Quiz\n",
    "- COPY /usr/diane/code/* .\n",
    "- RUN \"pip install fastapi\"\n",
    "# Docker has /Quiz/files_from_code\n",
    "- CMD [\"python\", \"quiz.py\"]\n"
   ]
  },
  {
   "cell_type": "markdown",
   "id": "376d5837",
   "metadata": {},
   "source": [
    "- fastapi\n",
    "  Dockerfile\n",
    "  .py files\n",
    "\n",
    "- cron\n",
    "  Dockerfile\n",
    "  api-cron\n",
    "\n",
    "docker-compose.yml\n",
    "  - Define service : fastapi, cron"
   ]
  },
  {
   "cell_type": "code",
   "execution_count": 9,
   "id": "a38fa324",
   "metadata": {},
   "outputs": [],
   "source": [
    "import requests\n",
    "response = requests.get(\"http://localhost:8000/Data/sample.html\")"
   ]
  },
  {
   "cell_type": "code",
   "execution_count": 10,
   "id": "65906a45",
   "metadata": {},
   "outputs": [],
   "source": [
    "html_text = response.text"
   ]
  },
  {
   "cell_type": "code",
   "execution_count": 11,
   "id": "774d31eb",
   "metadata": {},
   "outputs": [
    {
     "name": "stdout",
     "output_type": "stream",
     "text": [
      "======div===========\n",
      "child: <h2>Articles</h2>\n",
      "child: <p class=\"article\">Article 1: <a href=\"https://www.usfca.edu/arts-sciences/programs/graduate/data-science-artificial-intelligence\">USF MSDSAI</a></p>\n",
      "child: <p class=\"article\">Article 2: <a href=\"https://catalog.usfca.edu/preview_program.php?catoid=37&amp;poid=35409&amp;returnto=8545\">USF MSDSAI Classes</a></p>\n",
      "child: <p class=\"article\">Article 3: <a href=\"https://www.usfca.edu/koret\">Koret Center</a></p>\n",
      "======div===========\n",
      "child: <h2>Resources</h2>\n",
      "child: <ul>\n",
      "<li><a class=\"resource\" href=\"https://docs.python.org\">Python Docs</a></li>\n",
      "<li><a class=\"resource\" href=\"https://beautiful-soup-4.readthedocs.io\">BeautifulSoup Docs</a></li>\n",
      "<li><a class=\"resource\" href=\"https://pandas.pydata.org\">Pandas</a></li>\n",
      "</ul>\n"
     ]
    }
   ],
   "source": [
    "from bs4 import BeautifulSoup\n",
    "soup = BeautifulSoup(html_text, \"html.parser\")\n",
    "\n",
    "for div in soup.find_all(\"div\"):\n",
    "    print(\"======div===========\")\n",
    "    for child in div.children:\n",
    "        if child != \"\\n\":\n",
    "            print(f\"child: {child}\")"
   ]
  },
  {
   "cell_type": "code",
   "execution_count": 5,
   "id": "1c34eb46",
   "metadata": {},
   "outputs": [],
   "source": [
    "for div in soup.find_all(\"div\"):\n",
    "    print(\"======div===========\")\n",
    "    for des in div.descendants:\n",
    "        if des != \"\\n\":\n",
    "            print(f\"des: {des}\")"
   ]
  },
  {
   "cell_type": "code",
   "execution_count": 13,
   "id": "94be562b",
   "metadata": {},
   "outputs": [
    {
     "name": "stdout",
     "output_type": "stream",
     "text": [
      "======div===========\n",
      "<body>\n",
      "<h1 id=\"main-title\">Welcome to My Sample Page</h1>\n",
      "<p class=\"intro\">This page is created for practicing <b>BeautifulSoup</b>.</p>\n",
      "<div class=\"content\">\n",
      "<h2>Articles</h2>\n",
      "<p class=\"article\">Article 1: <a href=\"https://www.usfca.edu/arts-sciences/programs/graduate/data-science-artificial-intelligence\">USF MSDSAI</a></p>\n",
      "<p class=\"article\">Article 2: <a href=\"https://catalog.usfca.edu/preview_program.php?catoid=37&amp;poid=35409&amp;returnto=8545\">USF MSDSAI Classes</a></p>\n",
      "<p class=\"article\">Article 3: <a href=\"https://www.usfca.edu/koret\">Koret Center</a></p>\n",
      "</div>\n",
      "<div id=\"sidebar\">\n",
      "<h2>Resources</h2>\n",
      "<ul>\n",
      "<li><a class=\"resource\" href=\"https://docs.python.org\">Python Docs</a></li>\n",
      "<li><a class=\"resource\" href=\"https://beautiful-soup-4.readthedocs.io\">BeautifulSoup Docs</a></li>\n",
      "<li><a class=\"resource\" href=\"https://pandas.pydata.org\">Pandas</a></li>\n",
      "</ul>\n",
      "</div>\n",
      "<footer>\n",
      "<p>Contact: <span id=\"email\">dwoodbridge@usfca.edu</span></p>\n",
      "</footer>\n",
      "</body>\n",
      "======div===========\n",
      "<body>\n",
      "<h1 id=\"main-title\">Welcome to My Sample Page</h1>\n",
      "<p class=\"intro\">This page is created for practicing <b>BeautifulSoup</b>.</p>\n",
      "<div class=\"content\">\n",
      "<h2>Articles</h2>\n",
      "<p class=\"article\">Article 1: <a href=\"https://www.usfca.edu/arts-sciences/programs/graduate/data-science-artificial-intelligence\">USF MSDSAI</a></p>\n",
      "<p class=\"article\">Article 2: <a href=\"https://catalog.usfca.edu/preview_program.php?catoid=37&amp;poid=35409&amp;returnto=8545\">USF MSDSAI Classes</a></p>\n",
      "<p class=\"article\">Article 3: <a href=\"https://www.usfca.edu/koret\">Koret Center</a></p>\n",
      "</div>\n",
      "<div id=\"sidebar\">\n",
      "<h2>Resources</h2>\n",
      "<ul>\n",
      "<li><a class=\"resource\" href=\"https://docs.python.org\">Python Docs</a></li>\n",
      "<li><a class=\"resource\" href=\"https://beautiful-soup-4.readthedocs.io\">BeautifulSoup Docs</a></li>\n",
      "<li><a class=\"resource\" href=\"https://pandas.pydata.org\">Pandas</a></li>\n",
      "</ul>\n",
      "</div>\n",
      "<footer>\n",
      "<p>Contact: <span id=\"email\">dwoodbridge@usfca.edu</span></p>\n",
      "</footer>\n",
      "</body>\n"
     ]
    }
   ],
   "source": [
    "for div in soup.find_all(\"div\"):\n",
    "    print(\"======div===========\")\n",
    "    print(div.parent)"
   ]
  },
  {
   "cell_type": "code",
   "execution_count": null,
   "id": "e4efdd30",
   "metadata": {},
   "outputs": [],
   "source": [
    "async def function_name(): \n",
    "  async with async_playwight() as p:\n",
    "    await\n",
    "    await fastapi_async_function()"
   ]
  },
  {
   "cell_type": "code",
   "execution_count": null,
   "id": "fb287406",
   "metadata": {},
   "outputs": [],
   "source": []
  }
 ],
 "metadata": {
  "kernelspec": {
   "display_name": "msds692",
   "language": "python",
   "name": "python3"
  },
  "language_info": {
   "codemirror_mode": {
    "name": "ipython",
    "version": 3
   },
   "file_extension": ".py",
   "mimetype": "text/x-python",
   "name": "python",
   "nbconvert_exporter": "python",
   "pygments_lexer": "ipython3",
   "version": "3.13.5"
  }
 },
 "nbformat": 4,
 "nbformat_minor": 5
}
