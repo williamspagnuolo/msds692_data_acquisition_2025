{
 "cells": [
  {
   "cell_type": "code",
   "execution_count": null,
   "id": "9b360634",
   "metadata": {},
   "outputs": [],
   "source": [
    "<p id=\"1234\"> something </p>\n",
    "<p id=\"2345\"> else </p>\n",
    "\n",
    "for paragraph in page.query_selector_all(\"p\"):\n",
    "    print(paragraph.get_attribute(\"id\"))"
   ]
  }
 ],
 "metadata": {
  "language_info": {
   "name": "python"
  }
 },
 "nbformat": 4,
 "nbformat_minor": 5
}
