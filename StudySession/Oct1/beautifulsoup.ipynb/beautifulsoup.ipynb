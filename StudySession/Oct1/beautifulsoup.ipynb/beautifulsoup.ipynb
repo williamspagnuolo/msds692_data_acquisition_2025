{
 "cells": [
  {
   "cell_type": "code",
   "execution_count": 2,
   "id": "058dc622",
   "metadata": {},
   "outputs": [],
   "source": [
    "with open(\"../../../Data/sample.html\",'r') as file:\n",
    "    html_contents = file.read()"
   ]
  },
  {
   "cell_type": "code",
   "execution_count": 8,
   "id": "1b2abbf6",
   "metadata": {},
   "outputs": [],
   "source": [
    "from bs4 import BeautifulSoup\n",
    "\n",
    "soup = BeautifulSoup(html_contents, \"html.parser\")\n",
    "\n",
    "divs = soup.find_all(\"div\")"
   ]
  },
  {
   "cell_type": "code",
   "execution_count": 18,
   "id": "266d69a4",
   "metadata": {},
   "outputs": [
    {
     "name": "stdout",
     "output_type": "stream",
     "text": [
      "======div========\n",
      "---sibling---\n",
      "\n",
      "\n",
      "---sibling---\n",
      "<div id=\"sidebar\">\n",
      "<h2>Resources</h2>\n",
      "<ul>\n",
      "<li><a class=\"resource\" href=\"https://docs.python.org\">Python Docs</a></li>\n",
      "<li><a class=\"resource\" href=\"https://beautiful-soup-4.readthedocs.io\">BeautifulSoup Docs</a></li>\n",
      "<li><a class=\"resource\" href=\"https://pandas.pydata.org\">Pandas</a></li>\n",
      "</ul>\n",
      "</div>\n",
      "---sibling---\n",
      "\n",
      "\n",
      "---sibling---\n",
      "<footer>\n",
      "<p>Contact: <span id=\"email\">dwoodbridge@usfca.edu</span></p>\n",
      "</footer>\n",
      "---sibling---\n",
      "\n",
      "\n",
      "======div========\n",
      "---sibling---\n",
      "\n",
      "\n",
      "---sibling---\n",
      "<footer>\n",
      "<p>Contact: <span id=\"email\">dwoodbridge@usfca.edu</span></p>\n",
      "</footer>\n",
      "---sibling---\n",
      "\n",
      "\n"
     ]
    }
   ],
   "source": [
    "for div in divs:\n",
    "    print(\"======div========\")\n",
    "    # print(div.parent)\n",
    "    for sibling in div.next_siblings:\n",
    "        print(\"---sibling---\")\n",
    "        print(sibling)\n",
    "        "
   ]
  },
  {
   "cell_type": "code",
   "execution_count": null,
   "id": "2ea0a4e1",
   "metadata": {},
   "outputs": [],
   "source": []
  }
 ],
 "metadata": {
  "kernelspec": {
   "display_name": "msds692",
   "language": "python",
   "name": "python3"
  },
  "language_info": {
   "codemirror_mode": {
    "name": "ipython",
    "version": 3
   },
   "file_extension": ".py",
   "mimetype": "text/x-python",
   "name": "python",
   "nbconvert_exporter": "python",
   "pygments_lexer": "ipython3",
   "version": "3.13.5"
  }
 },
 "nbformat": 4,
 "nbformat_minor": 5
}
