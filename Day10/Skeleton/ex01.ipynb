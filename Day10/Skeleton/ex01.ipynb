{
 "cells": [
  {
   "cell_type": "code",
   "execution_count": 2,
   "id": "0b612171",
   "metadata": {},
   "outputs": [
    {
     "name": "stdout",
     "output_type": "stream",
     "text": [
      "Assistant: The question of whether the \"AI bubble\" is real is one of the most debated topics in tech and finance right now, and the truth is, it's not a simple \"yes\" or \"no.\" It's a **complex interplay of legitimate, transformative technological advancement and speculative market exuberance.**\n",
      "\n",
      "Here's a breakdown of why people believe it is (or isn't) a bubble:\n",
      "\n",
      "## Arguments for it Being a Bubble (or showing bubble-like characteristics):\n",
      "\n",
      "1.  **Exorbitant Valuations:** Many AI companies, especially startups, are receiving massive valuations without a clear path to profitability or even significant revenue. This is reminiscent of the dot-com bubble where companies were valued on \"eyeballs\" rather than earnings.\n",
      "2.  **Hype and FOMO (Fear Of Missing Out):** \"AI\" is being added to almost everything, sometimes with questionable substance, to attract investment and customer attention. Investors are pouring money in due to fear of missing the next big thing, potentially overlooking fundamental business metrics.\n",
      "3.  **Unsustainable Spending:** The race to build AI models and infrastructure is incredibly expensive (GPUs, data centers, top talent). Many companies are burning through cash at an alarming rate, which is only sustainable if future revenues materialize quickly and substantially.\n",
      "4.  **Lack of Clear Monetization for All Applications:** While some AI applications (like cloud AI services or specific enterprise tools) have clear business models, many of the more ambitious or consumer-facing AI projects are still struggling to find sustainable ways to make money.\n",
      "5.  **Historical Parallels:** Observers point to previous tech booms and busts – the dot-com bubble, the clean energy bubble, the crypto bubble – where initial technological promise led to irrational market behavior, followed by a significant correction.\n",
      "6.  **\"AI Washing\":** Similar to \"greenwashing,\" some companies are simply rebranding existing technologies or services as \"AI\" to capitalize on the hype, without genuinely innovating.\n",
      "\n",
      "## Arguments for it NOT Being a Bubble (or being fundamentally different and sustainable):\n",
      "\n",
      "1.  **Genuine Technological Breakthroughs:** Unlike some past bubbles that were built on less solid technological ground, the advancements in AI, particularly large language models (LLMs) and generative AI, are truly revolutionary. They are demonstrating capabilities that were unthinkable just a few years ago.\n",
      "2.  **Tangible Value & Productivity Gains:** AI is already delivering significant productivity improvements in areas like software development, content creation, scientific research (e.g., drug discovery), and customer service. Businesses are seeing real ROI.\n",
      "3.  **Massive Investment in Foundational Infrastructure:** A huge portion of the investment is going into core infrastructure – chips (Nvidia), cloud computing (AWS, Azure, GCP), and data centers. This infrastructure is a tangible asset that will be valuable regardless of which specific AI applications succeed or fail.\n",
      "4.  **Strong Balance Sheets of Key Players:** Major tech giants (Microsoft, Google, Amazon, Apple, Meta) are leading the charge. These companies have vast resources, diversified revenue streams, and long-term strategic visions that can weather market fluctuations.\n",
      "5.  **Broad Applicability:** AI is not a niche technology; it has the potential to transform nearly every industry, from healthcare and finance to manufacturing and entertainment. This widespread impact suggests a deeper, more enduring shift than a temporary fad.\n",
      "6.  **Global Competition:** The global race for AI leadership among countries like the US and China drives sustained investment and innovation, making a complete collapse less likely than in a localized bubble.\n",
      "7.  **Still Early in the Adoption Curve:** While the hype is high, the actual deployment and integration of advanced AI across most businesses is still in its nascent stages. This suggests a long runway for growth.\n",
      "\n",
      "## Conclusion: It's likely a \"Mini-Bubble\" within a \"Mega-Trend\"\n",
      "\n",
      "It's probably best to view the current situation as a **mega-trend** (the transformative power of AI) that is experiencing **mini-bubbles** of speculation within certain segments.\n",
      "\n",
      "*   **The underlying AI technology is real, powerful, and here to stay.** It's not a fad.\n",
      "*   **However, elements of the market around AI are showing classic bubble characteristics.** This means some companies, products, or investments might be significantly overvalued and could face a correction.\n",
      "\n",
      "**What to watch for:**\n",
      "\n",
      "*   **Proof of Profitability:** Can these AI companies turn impressive demos into sustainable, profitable businesses?\n",
      "*   **Consolidation:** Will there be a wave of mergers, acquisitions, and failures among the less viable AI startups?\n",
      "*   **Regulation:** How will governments respond to the ethical, safety, and economic implications of AI?\n",
      "*   **Democratization of AI:** Will the costs come down enough for widespread adoption beyond the largest enterprises?\n",
      "\n",
      "In essence, AI is likely to reshape our world, but the journey won't be a straight line up. There will be winners and losers, and periods of both incredible growth and inevitable market adjustments."
     ]
    }
   ],
   "source": [
    "from dotenv import load_dotenv\n",
    "import os\n",
    "\n",
    "import google.generativeai as genai\n",
    "\n",
    "load_dotenv()\n",
    "model = genai.GenerativeModel(\"gemini-2.5-flash\")\n",
    "genai.configure(api_key=os.getenv('GEMINI_API_KEY'))\n",
    "\n",
    "prompt = \"Tell me whether AI Bubble is real or not.\"\n",
    "chat_history = []\n",
    "# Stream the response\n",
    "chat = model.start_chat(history=chat_history)\n",
    "response = chat.send_message(prompt, stream=True)\n",
    "\n",
    "print(\"Assistant:\", end=\" \", flush=True)\n",
    "for chunk in response:\n",
    "    # With stream=True, response now sends chunks.\n",
    "    # Generally, it buffers output and may wait until a newline (\\n) \n",
    "    # or the buffer fills up.\n",
    "    # Using flush=True forces Python to flush the buffer right away and\n",
    "    # print text as soon as it arrives.\n",
    "    print(chunk.text, flush=True, end=\"\") "
   ]
  },
  {
   "cell_type": "code",
   "execution_count": null,
   "id": "664f05c3",
   "metadata": {},
   "outputs": [],
   "source": []
  }
 ],
 "metadata": {
  "kernelspec": {
   "display_name": "msds692",
   "language": "python",
   "name": "python3"
  },
  "language_info": {
   "codemirror_mode": {
    "name": "ipython",
    "version": 3
   },
   "file_extension": ".py",
   "mimetype": "text/x-python",
   "name": "python",
   "nbconvert_exporter": "python",
   "pygments_lexer": "ipython3",
   "version": "3.13.5"
  }
 },
 "nbformat": 4,
 "nbformat_minor": 5
}
