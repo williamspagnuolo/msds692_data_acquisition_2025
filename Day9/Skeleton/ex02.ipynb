{
 "cells": [
  {
   "cell_type": "code",
   "execution_count": 1,
   "id": "46ff204a",
   "metadata": {},
   "outputs": [],
   "source": [
    "from dotenv import load_dotenv\n",
    "import os\n",
    "\n",
    "project_name = 'bigquery-public-data'\n",
    "dataset_name = 'san_francisco_311'\n",
    "table_name = '311_service_requests'  \n",
    "\n",
    "# Make sure to go to your service account and add BigQuery User role\n",
    "load_dotenv()\n",
    "credential_path = os.getenv(\"GCP_SERVICE_ACCOUNT_KEY\") \n",
    "gcp_project_id = os.getenv(\"GCP_PROJECT_ID\")"
   ]
  },
  {
   "cell_type": "code",
   "execution_count": 2,
   "id": "22eca8ca",
   "metadata": {},
   "outputs": [
    {
     "name": "stderr",
     "output_type": "stream",
     "text": [
      "/opt/homebrew/anaconda3/envs/msds692/lib/python3.13/site-packages/google/auth/_default.py:76: UserWarning: Your application has authenticated using end user credentials from Google Cloud SDK without a quota project. You might receive a \"quota exceeded\" or \"API not enabled\" error. See the following page for troubleshooting: https://cloud.google.com/docs/authentication/adc-troubleshooting/user-creds. \n",
      "  warnings.warn(_CLOUD_SDK_CREDENTIALS_WARNING)\n"
     ]
    }
   ],
   "source": [
    "# Creating an engine\n",
    "from sqlalchemy import create_engine\n",
    "from sqlalchemy import MetaData, Table\n",
    "from sqlalchemy import select, and_\n",
    "\n",
    "engine = create_engine(f\"bigquery://{gcp_project_id}\",\n",
    "                       credentials_path=credential_path)"
   ]
  },
  {
   "cell_type": "code",
   "execution_count": 3,
   "id": "aa174fc9",
   "metadata": {},
   "outputs": [
    {
     "name": "stderr",
     "output_type": "stream",
     "text": [
      "/opt/homebrew/anaconda3/envs/msds692/lib/python3.13/site-packages/google/cloud/bigquery/client.py:613: UserWarning: Cannot create BigQuery Storage client, the dependency google-cloud-bigquery-storage is not installed.\n",
      "  warnings.warn(\n"
     ]
    }
   ],
   "source": [
    "metadata = MetaData()\n",
    "sf_table = Table(\n",
    "        table_name,\n",
    "        metadata, # added empty MetaData object\n",
    "        autoload_with=engine,\n",
    "        schema=f\"{project_name}.{dataset_name}\")"
   ]
  },
  {
   "cell_type": "code",
   "execution_count": null,
   "id": "84bd6e03",
   "metadata": {},
   "outputs": [
    {
     "name": "stdout",
     "output_type": "stream",
     "text": [
      "('Closed', 'MISSION', 1369926)\n",
      "('Closed', 'NORTHERN', 982913)\n",
      "('Closed', 'INGLESIDE', 783569)\n",
      "('Closed', 'CENTRAL', 764889)\n",
      "('Closed', 'SOUTHERN', 713633)\n",
      "('Closed', 'TARAVAL', 710133)\n",
      "('Closed', 'BAYVIEW', 674431)\n",
      "('Closed', 'RICHMOND', 622535)\n",
      "('Closed', 'PARK', 619469)\n",
      "('Closed', None, 376139)\n",
      "('Closed', 'TENDERLOIN', 322830)\n",
      "('Open', 'MISSION', 23918)\n",
      "('Open', 'NORTHERN', 19204)\n",
      "('Open', 'INGLESIDE', 15202)\n",
      "('Open', 'TARAVAL', 14365)\n",
      "('Open', 'CENTRAL', 13985)\n",
      "('Open', 'BAYVIEW', 13134)\n",
      "('Open', 'SOUTHERN', 12598)\n",
      "('Open', 'PARK', 12583)\n",
      "('Open', 'RICHMOND', 9276)\n",
      "('Open', 'TENDERLOIN', 4244)\n",
      "('Open', None, 4041)\n",
      "('Closed', 'UNASSIGNED', 96)\n",
      "('Open', 'UNASSIGNED', 3)\n",
      "('Closed', 'NO', 1)\n"
     ]
    }
   ],
   "source": [
    "from sqlalchemy import func\n",
    "# Return the status, police_district, and count of unique_key, grouped by status and police_district, ordered by count descending\n",
    "\n",
    "\n",
    "\n",
    "\n",
    "with engine.connect() as conn:\n",
    "    result = conn.execute(query)\n",
    "    for row in result:\n",
    "        print(row)"
   ]
  },
  {
   "cell_type": "code",
   "execution_count": null,
   "id": "111910a0",
   "metadata": {},
   "outputs": [],
   "source": []
  }
 ],
 "metadata": {
  "kernelspec": {
   "display_name": "msds692",
   "language": "python",
   "name": "python3"
  },
  "language_info": {
   "codemirror_mode": {
    "name": "ipython",
    "version": 3
   },
   "file_extension": ".py",
   "mimetype": "text/x-python",
   "name": "python",
   "nbconvert_exporter": "python",
   "pygments_lexer": "ipython3",
   "version": "3.13.5"
  }
 },
 "nbformat": 4,
 "nbformat_minor": 5
}
