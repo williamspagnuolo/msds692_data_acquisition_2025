{
 "cells": [
  {
   "cell_type": "code",
   "execution_count": 6,
   "id": "5faf5d2f",
   "metadata": {},
   "outputs": [],
   "source": [
    "from dotenv import load_dotenv\n",
    "import os\n",
    "\n",
    "# Make sure to go to your service account and add BigQuery User role\n",
    "load_dotenv()\n",
    "credential_path = os.getenv(\"GCP_SERVICE_ACCOUNT_KEY\") \n",
    "gcp_project_id = os.getenv(\"GCP_PROJECT_ID\")"
   ]
  },
  {
   "cell_type": "code",
   "execution_count": null,
   "id": "a6be2502",
   "metadata": {},
   "outputs": [
    {
     "name": "stderr",
     "output_type": "stream",
     "text": [
      "/opt/homebrew/anaconda3/envs/msds692/lib/python3.13/site-packages/google/auth/_default.py:76: UserWarning: Your application has authenticated using end user credentials from Google Cloud SDK without a quota project. You might receive a \"quota exceeded\" or \"API not enabled\" error. See the following page for troubleshooting: https://cloud.google.com/docs/authentication/adc-troubleshooting/user-creds. \n",
      "  warnings.warn(_CLOUD_SDK_CREDENTIALS_WARNING)\n"
     ]
    }
   ],
   "source": [
    "# Creating an engine\n",
    "from sqlalchemy import create_engine\n",
    "from sqlalchemy import MetaData, Table\n",
    "from sqlalchemy import select, and_\n",
    "\n",
    "engine = "
   ]
  },
  {
   "cell_type": "code",
   "execution_count": null,
   "id": "beba997f",
   "metadata": {},
   "outputs": [
    {
     "name": "stderr",
     "output_type": "stream",
     "text": [
      "/opt/homebrew/anaconda3/envs/msds692/lib/python3.13/site-packages/google/cloud/bigquery/client.py:613: UserWarning: Cannot create BigQuery Storage client, the dependency google-cloud-bigquery-storage is not installed.\n",
      "  warnings.warn(\n"
     ]
    }
   ],
   "source": [
    "project_name = 'bigquery-public-data'\n",
    "dataset_name = 'san_francisco_311'\n",
    "table_name = '311_service_requests'  \n",
    "\n",
    "# Connect to a table and loads its schema and other metadata\n"
   ]
  },
  {
   "cell_type": "code",
   "execution_count": null,
   "id": "2e9038bf",
   "metadata": {},
   "outputs": [],
   "source": [
    "query = "
   ]
  },
  {
   "cell_type": "code",
   "execution_count": null,
   "id": "fb91b597",
   "metadata": {},
   "outputs": [
    {
     "name": "stdout",
     "output_type": "stream",
     "text": [
      "\n",
      "Query results:\n",
      "(101002686986, 'Street and Sidewalk Cleaning', datetime.datetime(2025, 9, 27, 12, 59, 41, tzinfo=datetime.timezone.utc))\n",
      "(101002686977, 'Street and Sidewalk Cleaning', datetime.datetime(2025, 9, 27, 12, 58, 52, tzinfo=datetime.timezone.utc))\n",
      "(101002686979, 'Street and Sidewalk Cleaning', datetime.datetime(2025, 9, 27, 12, 58, 50, tzinfo=datetime.timezone.utc))\n",
      "(101002686956, 'Street and Sidewalk Cleaning', datetime.datetime(2025, 9, 27, 12, 54, 48, tzinfo=datetime.timezone.utc))\n",
      "(101002686951, 'Street and Sidewalk Cleaning', datetime.datetime(2025, 9, 27, 12, 53, 54, tzinfo=datetime.timezone.utc))\n",
      "(101002686948, 'Street and Sidewalk Cleaning', datetime.datetime(2025, 9, 27, 12, 53, 17, tzinfo=datetime.timezone.utc))\n",
      "(101002686946, 'Street and Sidewalk Cleaning', datetime.datetime(2025, 9, 27, 12, 52, 47, tzinfo=datetime.timezone.utc))\n",
      "(101002686943, 'Street and Sidewalk Cleaning', datetime.datetime(2025, 9, 27, 12, 51, 55, tzinfo=datetime.timezone.utc))\n",
      "(101002686942, 'Street and Sidewalk Cleaning', datetime.datetime(2025, 9, 27, 12, 51, 47, tzinfo=datetime.timezone.utc))\n",
      "(101002686933, 'Street and Sidewalk Cleaning', datetime.datetime(2025, 9, 27, 12, 49, 47, tzinfo=datetime.timezone.utc))\n"
     ]
    }
   ],
   "source": []
  },
  {
   "cell_type": "code",
   "execution_count": null,
   "id": "cd3e9578",
   "metadata": {},
   "outputs": [],
   "source": [
    "\n"
   ]
  },
  {
   "cell_type": "code",
   "execution_count": null,
   "id": "94f64885",
   "metadata": {},
   "outputs": [],
   "source": []
  }
 ],
 "metadata": {
  "kernelspec": {
   "display_name": "msds692",
   "language": "python",
   "name": "python3"
  },
  "language_info": {
   "codemirror_mode": {
    "name": "ipython",
    "version": 3
   },
   "file_extension": ".py",
   "mimetype": "text/x-python",
   "name": "python",
   "nbconvert_exporter": "python",
   "pygments_lexer": "ipython3",
   "version": "3.13.5"
  }
 },
 "nbformat": 4,
 "nbformat_minor": 5
}
